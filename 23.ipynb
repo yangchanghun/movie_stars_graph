{
 "cells": [
  {
   "cell_type": "code",
   "execution_count": 27,
   "metadata": {},
   "outputs": [
    {
     "name": "stdout",
     "output_type": "stream",
     "text": [
      "260\n"
     ]
    }
   ],
   "source": [
    "N = int(input())\n",
    "\n",
    "arr = [[0]*100 for _ in range(100)]\n",
    "\n",
    "for _ in range(N):\n",
    "    x1, y1 = map(int,input().split())\n",
    "\n",
    "    for i in range(x1,x1+10):\n",
    "        for j in range(y1,y1+10):\n",
    "            arr[i][j] = 1\n",
    "result = 0\n",
    "\n",
    "for k in range(100):\n",
    "    for j in range(100):\n",
    "        if arr[k][j] == 1:\n",
    "            result += 1\n",
    "print(result)"
   ]
  }
 ],
 "metadata": {
  "kernelspec": {
   "display_name": "Python 3",
   "language": "python",
   "name": "python3"
  },
  "language_info": {
   "codemirror_mode": {
    "name": "ipython",
    "version": 3
   },
   "file_extension": ".py",
   "mimetype": "text/x-python",
   "name": "python",
   "nbconvert_exporter": "python",
   "pygments_lexer": "ipython3",
   "version": "3.11.9"
  }
 },
 "nbformat": 4,
 "nbformat_minor": 2
}
